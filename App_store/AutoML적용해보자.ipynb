{
 "cells": [
  {
   "cell_type": "code",
   "execution_count": 1,
   "metadata": {},
   "outputs": [
    {
     "data": {
      "text/html": [
       "        <script type=\"text/javascript\">\n",
       "        window.PlotlyConfig = {MathJaxConfig: 'local'};\n",
       "        if (window.MathJax) {MathJax.Hub.Config({SVG: {font: \"STIX-Web\"}});}\n",
       "        if (typeof require !== 'undefined') {\n",
       "        require.undef(\"plotly\");\n",
       "        requirejs.config({\n",
       "            paths: {\n",
       "                'plotly': ['https://cdn.plot.ly/plotly-latest.min']\n",
       "            }\n",
       "        });\n",
       "        require(['plotly'], function(Plotly) {\n",
       "            window._Plotly = Plotly;\n",
       "        });\n",
       "        }\n",
       "        </script>\n",
       "        "
      ]
     },
     "metadata": {},
     "output_type": "display_data"
    }
   ],
   "source": [
    "import pickle\n",
    "import numpy as np\n",
    "import pandas as pd\n",
    "import matplotlib.pyplot as plt\n",
    "%matplotlib inline\n",
    "\n",
    "import seaborn as sns; sns.set()\n",
    "import chart_studio.plotly as py\n",
    "import cufflinks as cf\n",
    "plt.style.use('ggplot')\n",
    "%config InlineBackend.figure_format = 'retina'\n",
    "cf.go_offline()\n",
    "\n",
    "import matplotlib.font_manager as fm\n",
    "path = 'C:\\Windows\\Fonts\\malgunbd.ttf'\n",
    "font_name = fm.FontProperties(fname=path).get_name()\n",
    "plt.rc('font', family=font_name)"
   ]
  },
  {
   "cell_type": "code",
   "execution_count": 2,
   "metadata": {},
   "outputs": [
    {
     "name": "stderr",
     "output_type": "stream",
     "text": [
      "C:\\Anaconda\\lib\\site-packages\\mxnet\\optimizer\\optimizer.py:167: UserWarning:\n",
      "\n",
      "WARNING: New optimizer gluonnlp.optimizer.lamb.LAMB is overriding existing optimizer mxnet.optimizer.optimizer.LAMB\n",
      "\n"
     ]
    }
   ],
   "source": [
    "import autogluon as ag\n",
    "from autogluon import TabularPrediction as task "
   ]
  },
  {
   "cell_type": "code",
   "execution_count": 3,
   "metadata": {},
   "outputs": [],
   "source": [
    "with open(\"New_Data.pickle\",'rb') as f:\n",
    "    Train_Data= pickle.load(f)"
   ]
  },
  {
   "cell_type": "code",
   "execution_count": 4,
   "metadata": {},
   "outputs": [],
   "source": [
    "with open(\"Test.pickle\",'rb') as f:\n",
    "    Test_Data= pickle.load(f)"
   ]
  },
  {
   "cell_type": "code",
   "execution_count": 5,
   "metadata": {},
   "outputs": [],
   "source": [
    "Train_Data.to_csv('data/Train.csv')"
   ]
  },
  {
   "cell_type": "code",
   "execution_count": 6,
   "metadata": {},
   "outputs": [],
   "source": [
    "Test_Data.to_csv(\"data/Test.csv\")"
   ]
  },
  {
   "cell_type": "code",
   "execution_count": 7,
   "metadata": {},
   "outputs": [
    {
     "name": "stderr",
     "output_type": "stream",
     "text": [
      "Loaded data from: data/Train.csv | Columns = 14 / 14 | Rows = 9367 -> 9367\n"
     ]
    }
   ],
   "source": [
    "Dataset = task.Dataset(file_path = 'data/Train.csv')"
   ]
  },
  {
   "cell_type": "code",
   "execution_count": 8,
   "metadata": {},
   "outputs": [
    {
     "data": {
      "text/plain": [
       "1,000,000+        1577\n",
       "10,000,000+       1252\n",
       "100,000+          1150\n",
       "10,000+           1010\n",
       "5,000,000+         752\n",
       "1,000+             714\n",
       "500,000+           538\n",
       "50,000+            467\n",
       "5,000+             432\n",
       "100,000,000+       409\n",
       "100+               309\n",
       "50,000,000+        289\n",
       "500+               201\n",
       "500,000,000+        72\n",
       "10+                 69\n",
       "1,000,000,000+      58\n",
       "50+                 56\n",
       "5+                   9\n",
       "1+                   3\n",
       "Name: 다운로드수, dtype: int64"
      ]
     },
     "execution_count": 8,
     "metadata": {},
     "output_type": "execute_result"
    }
   ],
   "source": [
    "Dataset.다운로드수.value_counts()"
   ]
  },
  {
   "cell_type": "code",
   "execution_count": 9,
   "metadata": {},
   "outputs": [],
   "source": [
    "label_columns = '평가점수'\n",
    "savedir = 'data/'"
   ]
  },
  {
   "cell_type": "code",
   "execution_count": 10,
   "metadata": {},
   "outputs": [
    {
     "name": "stderr",
     "output_type": "stream",
     "text": [
      "Beginning AutoGluon training ...\n",
      "AutoGluon will save models to data/\\\n",
      "Train Data Rows:    9367\n",
      "Train Data Columns: 14\n",
      "Preprocessing data ...\n",
      "Here are the first 10 unique label values in your data:  [4.1 3.9 4.7 4.5 4.3 4.4 3.8 4.2 4.6 3.2]\n",
      "AutoGluon infers your prediction problem is: regression  (because dtype of label-column == float and label-values can't be converted to int).\n",
      "If this is wrong, please specify `problem_type` argument in fit() instead (You may specify problem_type as one of: [('binary', 'multiclass', 'regression')])\n",
      "\n",
      "NumExpr defaulting to 4 threads.\n",
      "Feature Generator processed 9367 data points with 122 features\n",
      "Original Features:\n",
      "\tint features: 1\n",
      "\tobject features: 10\n",
      "\tfloat features: 1\n",
      "\tdatetime features: 1\n",
      "Generated Features:\n",
      "\tint features: 109\n",
      "All Features:\n",
      "\tint features: 110\n",
      "\tobject features: 10\n",
      "\tfloat features: 1\n",
      "\tdatetime features: 1\n",
      "\tData preprocessing and feature engineering runtime = 11.41s ...\n",
      "AutoGluon will gauge predictive performance using evaluation metric: mean_squared_error\n",
      "To change this, specify the eval_metric argument of fit()\n",
      "AutoGluon will early stop models using evaluation metric: mean_squared_error\n",
      "C:\\Anaconda\\lib\\imp.py:342: DeprecationWarning:\n",
      "\n",
      "Using or importing the ABCs from 'collections' instead of from 'collections.abc' is deprecated, and in 3.8 it will stop working\n",
      "\n",
      "Fitting model: RandomForestRegressorMSE ...\n",
      "\t-0.2129\t = Validation mean_squared_error score\n",
      "\t27.55s\t = Training runtime\n",
      "\t0.15s\t = Validation runtime\n",
      "Fitting model: ExtraTreesRegressorMSE ...\n",
      "\t-0.2178\t = Validation mean_squared_error score\n",
      "\t32.57s\t = Training runtime\n",
      "\t0.17s\t = Validation runtime\n",
      "Fitting model: KNeighborsRegressorUnif ...\n",
      "\t-0.3278\t = Validation mean_squared_error score\n",
      "\t0.25s\t = Training runtime\n",
      "\t0.17s\t = Validation runtime\n",
      "Fitting model: KNeighborsRegressorDist ...\n",
      "\t-0.4019\t = Validation mean_squared_error score\n",
      "\t0.24s\t = Training runtime\n",
      "\t0.16s\t = Validation runtime\n",
      "Fitting model: LightGBMRegressor ...\n",
      "\t-0.2103\t = Validation mean_squared_error score\n",
      "\t5.41s\t = Training runtime\n",
      "\t0.12s\t = Validation runtime\n",
      "Fitting model: CatboostRegressor ...\n",
      "\t-0.2067\t = Validation mean_squared_error score\n",
      "\t55.61s\t = Training runtime\n",
      "\t0.1s\t = Validation runtime\n",
      "Fitting model: NeuralNetRegressor ...\n",
      "\t-0.2362\t = Validation mean_squared_error score\n",
      "\t120.01s\t = Training runtime\n",
      "\t0.48s\t = Validation runtime\n",
      "Fitting model: LightGBMRegressorCustom ...\n",
      "\t-0.2002\t = Validation mean_squared_error score\n",
      "\t10.85s\t = Training runtime\n",
      "\t0.25s\t = Validation runtime\n",
      "Fitting model: weighted_ensemble_k0_l1 ...\n",
      "\t-0.1954\t = Validation mean_squared_error score\n",
      "\t0.75s\t = Training runtime\n",
      "\t0.0s\t = Validation runtime\n",
      "AutoGluon training complete, total runtime = 272.75s ...\n"
     ]
    }
   ],
   "source": [
    "predictor = task.fit(train_data = Dataset, label= label_columns,output_directory = savedir,eval_metric = 'mean_squared_error')"
   ]
  },
  {
   "cell_type": "markdown",
   "metadata": {},
   "source": [
    "# 1"
   ]
  },
  {
   "cell_type": "code",
   "execution_count": 11,
   "metadata": {},
   "outputs": [
    {
     "name": "stdout",
     "output_type": "stream",
     "text": [
      "*** Summary of fit() ***\n",
      "Estimated performance of each model:\n",
      "                      model  score_val  pred_time_val    fit_time  pred_time_val_marginal  fit_time_marginal  stack_level  can_infer\n",
      "0   weighted_ensemble_k0_l1  -0.195418       1.114793  225.190233                0.004004           0.753534            1       True\n",
      "1   LightGBMRegressorCustom  -0.200211       0.245173   10.845704                0.245173          10.845704            0       True\n",
      "2         CatboostRegressor  -0.206681       0.095068   55.611495                0.095068          55.611495            0       True\n",
      "3         LightGBMRegressor  -0.210277       0.116083    5.406837                0.116083           5.406837            0       True\n",
      "4  RandomForestRegressorMSE  -0.212931       0.153108   27.547551                0.153108          27.547551            0       True\n",
      "5    ExtraTreesRegressorMSE  -0.217846       0.174124   32.565161                0.174124          32.565161            0       True\n",
      "6        NeuralNetRegressor  -0.236216       0.480341  120.007502                0.480341         120.007502            0       True\n",
      "7   KNeighborsRegressorUnif  -0.327788       0.169138    0.247173                0.169138           0.247173            0       True\n",
      "8   KNeighborsRegressorDist  -0.401943       0.164133    0.236167                0.164133           0.236167            0       True\n",
      "Number of models trained: 9\n",
      "Types of models trained:\n",
      "{'CatboostModel', 'WeightedEnsembleModel', 'TabularNeuralNetModel', 'KNNModel', 'RFModel', 'LGBModel'}\n",
      "Bagging used: False \n",
      "Stack-ensembling used: False \n",
      "Hyperparameter-tuning used: False \n",
      "User-specified hyperparameters:\n",
      "{'NN': {}, 'GBM': {}, 'CAT': {}, 'RF': {}, 'XT': {}, 'KNN': {}, 'custom': ['GBM']}\n",
      "Plot summary of models saved to file: data/\\SummaryOfModels.html\n",
      "*** End of fit() summary ***\n"
     ]
    }
   ],
   "source": [
    "results = predictor.fit_summary()"
   ]
  },
  {
   "cell_type": "code",
   "execution_count": 12,
   "metadata": {},
   "outputs": [
    {
     "name": "stdout",
     "output_type": "stream",
     "text": [
      "                      model  score_val  pred_time_val    fit_time  pred_time_val_marginal  fit_time_marginal  stack_level  can_infer\n",
      "0   weighted_ensemble_k0_l1  -0.195418       1.114793  225.190233                0.004004           0.753534            1       True\n",
      "1   LightGBMRegressorCustom  -0.200211       0.245173   10.845704                0.245173          10.845704            0       True\n",
      "2         CatboostRegressor  -0.206681       0.095068   55.611495                0.095068          55.611495            0       True\n",
      "3         LightGBMRegressor  -0.210277       0.116083    5.406837                0.116083           5.406837            0       True\n",
      "4  RandomForestRegressorMSE  -0.212931       0.153108   27.547551                0.153108          27.547551            0       True\n",
      "5    ExtraTreesRegressorMSE  -0.217846       0.174124   32.565161                0.174124          32.565161            0       True\n",
      "6        NeuralNetRegressor  -0.236216       0.480341  120.007502                0.480341         120.007502            0       True\n",
      "7   KNeighborsRegressorUnif  -0.327788       0.169138    0.247173                0.169138           0.247173            0       True\n",
      "8   KNeighborsRegressorDist  -0.401943       0.164133    0.236167                0.164133           0.236167            0       True\n"
     ]
    },
    {
     "data": {
      "text/html": [
       "<div>\n",
       "<style scoped>\n",
       "    .dataframe tbody tr th:only-of-type {\n",
       "        vertical-align: middle;\n",
       "    }\n",
       "\n",
       "    .dataframe tbody tr th {\n",
       "        vertical-align: top;\n",
       "    }\n",
       "\n",
       "    .dataframe thead th {\n",
       "        text-align: right;\n",
       "    }\n",
       "</style>\n",
       "<table border=\"1\" class=\"dataframe\">\n",
       "  <thead>\n",
       "    <tr style=\"text-align: right;\">\n",
       "      <th></th>\n",
       "      <th>model</th>\n",
       "      <th>score_val</th>\n",
       "      <th>pred_time_val</th>\n",
       "      <th>fit_time</th>\n",
       "      <th>pred_time_val_marginal</th>\n",
       "      <th>fit_time_marginal</th>\n",
       "      <th>stack_level</th>\n",
       "      <th>can_infer</th>\n",
       "    </tr>\n",
       "  </thead>\n",
       "  <tbody>\n",
       "    <tr>\n",
       "      <th>0</th>\n",
       "      <td>weighted_ensemble_k0_l1</td>\n",
       "      <td>-0.195418</td>\n",
       "      <td>1.114793</td>\n",
       "      <td>225.190233</td>\n",
       "      <td>0.004004</td>\n",
       "      <td>0.753534</td>\n",
       "      <td>1</td>\n",
       "      <td>True</td>\n",
       "    </tr>\n",
       "    <tr>\n",
       "      <th>1</th>\n",
       "      <td>LightGBMRegressorCustom</td>\n",
       "      <td>-0.200211</td>\n",
       "      <td>0.245173</td>\n",
       "      <td>10.845704</td>\n",
       "      <td>0.245173</td>\n",
       "      <td>10.845704</td>\n",
       "      <td>0</td>\n",
       "      <td>True</td>\n",
       "    </tr>\n",
       "    <tr>\n",
       "      <th>2</th>\n",
       "      <td>CatboostRegressor</td>\n",
       "      <td>-0.206681</td>\n",
       "      <td>0.095068</td>\n",
       "      <td>55.611495</td>\n",
       "      <td>0.095068</td>\n",
       "      <td>55.611495</td>\n",
       "      <td>0</td>\n",
       "      <td>True</td>\n",
       "    </tr>\n",
       "    <tr>\n",
       "      <th>3</th>\n",
       "      <td>LightGBMRegressor</td>\n",
       "      <td>-0.210277</td>\n",
       "      <td>0.116083</td>\n",
       "      <td>5.406837</td>\n",
       "      <td>0.116083</td>\n",
       "      <td>5.406837</td>\n",
       "      <td>0</td>\n",
       "      <td>True</td>\n",
       "    </tr>\n",
       "    <tr>\n",
       "      <th>4</th>\n",
       "      <td>RandomForestRegressorMSE</td>\n",
       "      <td>-0.212931</td>\n",
       "      <td>0.153108</td>\n",
       "      <td>27.547551</td>\n",
       "      <td>0.153108</td>\n",
       "      <td>27.547551</td>\n",
       "      <td>0</td>\n",
       "      <td>True</td>\n",
       "    </tr>\n",
       "    <tr>\n",
       "      <th>5</th>\n",
       "      <td>ExtraTreesRegressorMSE</td>\n",
       "      <td>-0.217846</td>\n",
       "      <td>0.174124</td>\n",
       "      <td>32.565161</td>\n",
       "      <td>0.174124</td>\n",
       "      <td>32.565161</td>\n",
       "      <td>0</td>\n",
       "      <td>True</td>\n",
       "    </tr>\n",
       "    <tr>\n",
       "      <th>6</th>\n",
       "      <td>NeuralNetRegressor</td>\n",
       "      <td>-0.236216</td>\n",
       "      <td>0.480341</td>\n",
       "      <td>120.007502</td>\n",
       "      <td>0.480341</td>\n",
       "      <td>120.007502</td>\n",
       "      <td>0</td>\n",
       "      <td>True</td>\n",
       "    </tr>\n",
       "    <tr>\n",
       "      <th>7</th>\n",
       "      <td>KNeighborsRegressorUnif</td>\n",
       "      <td>-0.327788</td>\n",
       "      <td>0.169138</td>\n",
       "      <td>0.247173</td>\n",
       "      <td>0.169138</td>\n",
       "      <td>0.247173</td>\n",
       "      <td>0</td>\n",
       "      <td>True</td>\n",
       "    </tr>\n",
       "    <tr>\n",
       "      <th>8</th>\n",
       "      <td>KNeighborsRegressorDist</td>\n",
       "      <td>-0.401943</td>\n",
       "      <td>0.164133</td>\n",
       "      <td>0.236167</td>\n",
       "      <td>0.164133</td>\n",
       "      <td>0.236167</td>\n",
       "      <td>0</td>\n",
       "      <td>True</td>\n",
       "    </tr>\n",
       "  </tbody>\n",
       "</table>\n",
       "</div>"
      ],
      "text/plain": [
       "                      model  score_val  pred_time_val    fit_time  \\\n",
       "0   weighted_ensemble_k0_l1  -0.195418       1.114793  225.190233   \n",
       "1   LightGBMRegressorCustom  -0.200211       0.245173   10.845704   \n",
       "2         CatboostRegressor  -0.206681       0.095068   55.611495   \n",
       "3         LightGBMRegressor  -0.210277       0.116083    5.406837   \n",
       "4  RandomForestRegressorMSE  -0.212931       0.153108   27.547551   \n",
       "5    ExtraTreesRegressorMSE  -0.217846       0.174124   32.565161   \n",
       "6        NeuralNetRegressor  -0.236216       0.480341  120.007502   \n",
       "7   KNeighborsRegressorUnif  -0.327788       0.169138    0.247173   \n",
       "8   KNeighborsRegressorDist  -0.401943       0.164133    0.236167   \n",
       "\n",
       "   pred_time_val_marginal  fit_time_marginal  stack_level  can_infer  \n",
       "0                0.004004           0.753534            1       True  \n",
       "1                0.245173          10.845704            0       True  \n",
       "2                0.095068          55.611495            0       True  \n",
       "3                0.116083           5.406837            0       True  \n",
       "4                0.153108          27.547551            0       True  \n",
       "5                0.174124          32.565161            0       True  \n",
       "6                0.480341         120.007502            0       True  \n",
       "7                0.169138           0.247173            0       True  \n",
       "8                0.164133           0.236167            0       True  "
      ]
     },
     "execution_count": 12,
     "metadata": {},
     "output_type": "execute_result"
    }
   ],
   "source": [
    "lboard = predictor.leaderboard()\n",
    "lboard.sort_values(by ='score_val',ascending = False)"
   ]
  },
  {
   "cell_type": "code",
   "execution_count": 13,
   "metadata": {},
   "outputs": [
    {
     "name": "stderr",
     "output_type": "stream",
     "text": [
      "Loaded data from: data/Test.csv | Columns = 14 / 14 | Rows = 1474 -> 1474\n"
     ]
    }
   ],
   "source": [
    "Test_data_full = task.Dataset(file_path = 'data/Test.csv')"
   ]
  },
  {
   "cell_type": "code",
   "execution_count": 14,
   "metadata": {},
   "outputs": [
    {
     "data": {
      "text/plain": [
       "100+          410\n",
       "10+           317\n",
       "1,000+        194\n",
       "50+           149\n",
       "500+          129\n",
       "5+             73\n",
       "1+             64\n",
       "5,000+         45\n",
       "10,000+        44\n",
       "100,000+       19\n",
       "0+             14\n",
       "50,000+        12\n",
       "1,000,000+      2\n",
       "0               1\n",
       "500,000+        1\n",
       "Name: 다운로드수, dtype: int64"
      ]
     },
     "execution_count": 14,
     "metadata": {},
     "output_type": "execute_result"
    }
   ],
   "source": [
    "# Test데이터에 0짜리가 있다. - 15개!\n",
    "Test_data_full.다운로드수.value_counts()"
   ]
  },
  {
   "cell_type": "code",
   "execution_count": 15,
   "metadata": {},
   "outputs": [],
   "source": [
    "Test_data = Test_data_full.drop('평가점수',axis = 1)"
   ]
  },
  {
   "cell_type": "code",
   "execution_count": 16,
   "metadata": {},
   "outputs": [],
   "source": [
    "Test_data.columns = ['index', 'app이름', '카테고리', '리뷰수', 'app크기', '다운로드수', '유료구분', '가격',\n",
    "       '이용가능연령구분', '장르', '마지막업데이트', '버전', '안드로이드버전']"
   ]
  },
  {
   "cell_type": "code",
   "execution_count": 17,
   "metadata": {},
   "outputs": [],
   "source": [
    "Test_data = Test_data.set_index('index')"
   ]
  },
  {
   "cell_type": "code",
   "execution_count": 18,
   "metadata": {},
   "outputs": [
    {
     "data": {
      "text/html": [
       "<div>\n",
       "<style scoped>\n",
       "    .dataframe tbody tr th:only-of-type {\n",
       "        vertical-align: middle;\n",
       "    }\n",
       "\n",
       "    .dataframe tbody tr th {\n",
       "        vertical-align: top;\n",
       "    }\n",
       "\n",
       "    .dataframe thead th {\n",
       "        text-align: right;\n",
       "    }\n",
       "</style>\n",
       "<table border=\"1\" class=\"dataframe\">\n",
       "  <thead>\n",
       "    <tr style=\"text-align: right;\">\n",
       "      <th></th>\n",
       "      <th>app이름</th>\n",
       "      <th>카테고리</th>\n",
       "      <th>리뷰수</th>\n",
       "      <th>app크기</th>\n",
       "      <th>다운로드수</th>\n",
       "      <th>유료구분</th>\n",
       "      <th>가격</th>\n",
       "      <th>이용가능연령구분</th>\n",
       "      <th>장르</th>\n",
       "      <th>마지막업데이트</th>\n",
       "      <th>버전</th>\n",
       "      <th>안드로이드버전</th>\n",
       "    </tr>\n",
       "    <tr>\n",
       "      <th>index</th>\n",
       "      <th></th>\n",
       "      <th></th>\n",
       "      <th></th>\n",
       "      <th></th>\n",
       "      <th></th>\n",
       "      <th></th>\n",
       "      <th></th>\n",
       "      <th></th>\n",
       "      <th></th>\n",
       "      <th></th>\n",
       "      <th></th>\n",
       "      <th></th>\n",
       "    </tr>\n",
       "  </thead>\n",
       "  <tbody>\n",
       "    <tr>\n",
       "      <th>23</th>\n",
       "      <td>Mcqueen Coloring pages</td>\n",
       "      <td>ART_AND_DESIGN</td>\n",
       "      <td>61</td>\n",
       "      <td>7.0M</td>\n",
       "      <td>100,000+</td>\n",
       "      <td>Free</td>\n",
       "      <td>0</td>\n",
       "      <td>Everyone</td>\n",
       "      <td>Art &amp; Design;Action &amp; Adventure</td>\n",
       "      <td>March 7, 2018</td>\n",
       "      <td>1.0.0</td>\n",
       "      <td>4.1 and up</td>\n",
       "    </tr>\n",
       "    <tr>\n",
       "      <th>113</th>\n",
       "      <td>Wrinkles and rejuvenation</td>\n",
       "      <td>BEAUTY</td>\n",
       "      <td>182</td>\n",
       "      <td>5.7M</td>\n",
       "      <td>100,000+</td>\n",
       "      <td>Free</td>\n",
       "      <td>0</td>\n",
       "      <td>Everyone 10+</td>\n",
       "      <td>Beauty</td>\n",
       "      <td>September 20, 2017</td>\n",
       "      <td>8.0</td>\n",
       "      <td>3.0 and up</td>\n",
       "    </tr>\n",
       "    <tr>\n",
       "      <th>123</th>\n",
       "      <td>Manicure - nail design</td>\n",
       "      <td>BEAUTY</td>\n",
       "      <td>119</td>\n",
       "      <td>3.7M</td>\n",
       "      <td>50,000+</td>\n",
       "      <td>Free</td>\n",
       "      <td>0</td>\n",
       "      <td>Everyone</td>\n",
       "      <td>Beauty</td>\n",
       "      <td>July 23, 2018</td>\n",
       "      <td>1.3</td>\n",
       "      <td>4.1 and up</td>\n",
       "    </tr>\n",
       "    <tr>\n",
       "      <th>126</th>\n",
       "      <td>Skin Care and Natural Beauty</td>\n",
       "      <td>BEAUTY</td>\n",
       "      <td>654</td>\n",
       "      <td>7.4M</td>\n",
       "      <td>100,000+</td>\n",
       "      <td>Free</td>\n",
       "      <td>0</td>\n",
       "      <td>Teen</td>\n",
       "      <td>Beauty</td>\n",
       "      <td>July 17, 2018</td>\n",
       "      <td>1.15</td>\n",
       "      <td>4.1 and up</td>\n",
       "    </tr>\n",
       "    <tr>\n",
       "      <th>129</th>\n",
       "      <td>Secrets of beauty, youth and health</td>\n",
       "      <td>BEAUTY</td>\n",
       "      <td>77</td>\n",
       "      <td>2.9M</td>\n",
       "      <td>10,000+</td>\n",
       "      <td>Free</td>\n",
       "      <td>0</td>\n",
       "      <td>Mature 17+</td>\n",
       "      <td>Beauty</td>\n",
       "      <td>August 8, 2017</td>\n",
       "      <td>2.0</td>\n",
       "      <td>2.3 and up</td>\n",
       "    </tr>\n",
       "    <tr>\n",
       "      <th>...</th>\n",
       "      <td>...</td>\n",
       "      <td>...</td>\n",
       "      <td>...</td>\n",
       "      <td>...</td>\n",
       "      <td>...</td>\n",
       "      <td>...</td>\n",
       "      <td>...</td>\n",
       "      <td>...</td>\n",
       "      <td>...</td>\n",
       "      <td>...</td>\n",
       "      <td>...</td>\n",
       "      <td>...</td>\n",
       "    </tr>\n",
       "    <tr>\n",
       "      <th>10824</th>\n",
       "      <td>Cardio-FR</td>\n",
       "      <td>MEDICAL</td>\n",
       "      <td>67</td>\n",
       "      <td>82M</td>\n",
       "      <td>10,000+</td>\n",
       "      <td>Free</td>\n",
       "      <td>0</td>\n",
       "      <td>Everyone</td>\n",
       "      <td>Medical</td>\n",
       "      <td>July 31, 2018</td>\n",
       "      <td>2.2.2</td>\n",
       "      <td>4.4 and up</td>\n",
       "    </tr>\n",
       "    <tr>\n",
       "      <th>10825</th>\n",
       "      <td>Naruto &amp; Boruto FR</td>\n",
       "      <td>SOCIAL</td>\n",
       "      <td>7</td>\n",
       "      <td>7.7M</td>\n",
       "      <td>100+</td>\n",
       "      <td>Free</td>\n",
       "      <td>0</td>\n",
       "      <td>Teen</td>\n",
       "      <td>Social</td>\n",
       "      <td>February 2, 2018</td>\n",
       "      <td>1.0</td>\n",
       "      <td>4.0 and up</td>\n",
       "    </tr>\n",
       "    <tr>\n",
       "      <th>10831</th>\n",
       "      <td>payermonstationnement.fr</td>\n",
       "      <td>MAPS_AND_NAVIGATION</td>\n",
       "      <td>38</td>\n",
       "      <td>9.8M</td>\n",
       "      <td>5,000+</td>\n",
       "      <td>Free</td>\n",
       "      <td>0</td>\n",
       "      <td>Everyone</td>\n",
       "      <td>Maps &amp; Navigation</td>\n",
       "      <td>June 13, 2018</td>\n",
       "      <td>2.0.148.0</td>\n",
       "      <td>4.0 and up</td>\n",
       "    </tr>\n",
       "    <tr>\n",
       "      <th>10835</th>\n",
       "      <td>FR Forms</td>\n",
       "      <td>BUSINESS</td>\n",
       "      <td>0</td>\n",
       "      <td>9.6M</td>\n",
       "      <td>10+</td>\n",
       "      <td>Free</td>\n",
       "      <td>0</td>\n",
       "      <td>Everyone</td>\n",
       "      <td>Business</td>\n",
       "      <td>September 29, 2016</td>\n",
       "      <td>1.1.5</td>\n",
       "      <td>4.0 and up</td>\n",
       "    </tr>\n",
       "    <tr>\n",
       "      <th>10838</th>\n",
       "      <td>Parkinson Exercices FR</td>\n",
       "      <td>MEDICAL</td>\n",
       "      <td>3</td>\n",
       "      <td>9.5M</td>\n",
       "      <td>1,000+</td>\n",
       "      <td>Free</td>\n",
       "      <td>0</td>\n",
       "      <td>Everyone</td>\n",
       "      <td>Medical</td>\n",
       "      <td>January 20, 2017</td>\n",
       "      <td>1.0</td>\n",
       "      <td>2.2 and up</td>\n",
       "    </tr>\n",
       "  </tbody>\n",
       "</table>\n",
       "<p>1474 rows × 12 columns</p>\n",
       "</div>"
      ],
      "text/plain": [
       "                                     app이름                 카테고리  리뷰수 app크기  \\\n",
       "index                                                                        \n",
       "23                  Mcqueen Coloring pages       ART_AND_DESIGN   61  7.0M   \n",
       "113              Wrinkles and rejuvenation               BEAUTY  182  5.7M   \n",
       "123                 Manicure - nail design               BEAUTY  119  3.7M   \n",
       "126           Skin Care and Natural Beauty               BEAUTY  654  7.4M   \n",
       "129    Secrets of beauty, youth and health               BEAUTY   77  2.9M   \n",
       "...                                    ...                  ...  ...   ...   \n",
       "10824                            Cardio-FR              MEDICAL   67   82M   \n",
       "10825                   Naruto & Boruto FR               SOCIAL    7  7.7M   \n",
       "10831             payermonstationnement.fr  MAPS_AND_NAVIGATION   38  9.8M   \n",
       "10835                             FR Forms             BUSINESS    0  9.6M   \n",
       "10838               Parkinson Exercices FR              MEDICAL    3  9.5M   \n",
       "\n",
       "          다운로드수  유료구분 가격      이용가능연령구분                               장르  \\\n",
       "index                                                                     \n",
       "23     100,000+  Free  0      Everyone  Art & Design;Action & Adventure   \n",
       "113    100,000+  Free  0  Everyone 10+                           Beauty   \n",
       "123     50,000+  Free  0      Everyone                           Beauty   \n",
       "126    100,000+  Free  0          Teen                           Beauty   \n",
       "129     10,000+  Free  0    Mature 17+                           Beauty   \n",
       "...         ...   ... ..           ...                              ...   \n",
       "10824   10,000+  Free  0      Everyone                          Medical   \n",
       "10825      100+  Free  0          Teen                           Social   \n",
       "10831    5,000+  Free  0      Everyone                Maps & Navigation   \n",
       "10835       10+  Free  0      Everyone                         Business   \n",
       "10838    1,000+  Free  0      Everyone                          Medical   \n",
       "\n",
       "                  마지막업데이트         버전     안드로이드버전  \n",
       "index                                             \n",
       "23          March 7, 2018      1.0.0  4.1 and up  \n",
       "113    September 20, 2017        8.0  3.0 and up  \n",
       "123         July 23, 2018        1.3  4.1 and up  \n",
       "126         July 17, 2018       1.15  4.1 and up  \n",
       "129        August 8, 2017        2.0  2.3 and up  \n",
       "...                   ...        ...         ...  \n",
       "10824       July 31, 2018      2.2.2  4.4 and up  \n",
       "10825    February 2, 2018        1.0  4.0 and up  \n",
       "10831       June 13, 2018  2.0.148.0  4.0 and up  \n",
       "10835  September 29, 2016      1.1.5  4.0 and up  \n",
       "10838    January 20, 2017        1.0  2.2 and up  \n",
       "\n",
       "[1474 rows x 12 columns]"
      ]
     },
     "execution_count": 18,
     "metadata": {},
     "output_type": "execute_result"
    }
   ],
   "source": [
    "Test_data"
   ]
  },
  {
   "cell_type": "code",
   "execution_count": 19,
   "metadata": {},
   "outputs": [
    {
     "name": "stderr",
     "output_type": "stream",
     "text": [
      "C:\\Anaconda\\lib\\site-packages\\autogluon\\utils\\tabular\\features\\abstract_feature_generator.py:173: UserWarning:\n",
      "\n",
      "The columns listed below from the training data are no longer in the given dataset. (AutoGluon will proceed assuming their values are missing, but you should remove these columns from training dataset and train a new model):  ['Unnamed: 0']\n",
      "\n"
     ]
    }
   ],
   "source": [
    "pred_prb = predictor.predict_proba(Test_data,as_pandas = True)"
   ]
  },
  {
   "cell_type": "code",
   "execution_count": 20,
   "metadata": {},
   "outputs": [],
   "source": [
    "A = pred_prb.reset_index()"
   ]
  },
  {
   "cell_type": "code",
   "execution_count": 21,
   "metadata": {},
   "outputs": [],
   "source": [
    "A['index'] = list(Test_data.index)"
   ]
  },
  {
   "cell_type": "code",
   "execution_count": 22,
   "metadata": {},
   "outputs": [],
   "source": [
    "Result_autogluon = A.set_index('index')"
   ]
  },
  {
   "cell_type": "code",
   "execution_count": 23,
   "metadata": {},
   "outputs": [
    {
     "data": {
      "text/html": [
       "<div>\n",
       "<style scoped>\n",
       "    .dataframe tbody tr th:only-of-type {\n",
       "        vertical-align: middle;\n",
       "    }\n",
       "\n",
       "    .dataframe tbody tr th {\n",
       "        vertical-align: top;\n",
       "    }\n",
       "\n",
       "    .dataframe thead th {\n",
       "        text-align: right;\n",
       "    }\n",
       "</style>\n",
       "<table border=\"1\" class=\"dataframe\">\n",
       "  <thead>\n",
       "    <tr style=\"text-align: right;\">\n",
       "      <th></th>\n",
       "      <th>평가점수</th>\n",
       "    </tr>\n",
       "    <tr>\n",
       "      <th>index</th>\n",
       "      <th></th>\n",
       "    </tr>\n",
       "  </thead>\n",
       "  <tbody>\n",
       "    <tr>\n",
       "      <th>23</th>\n",
       "      <td>4.187732</td>\n",
       "    </tr>\n",
       "    <tr>\n",
       "      <th>113</th>\n",
       "      <td>4.162334</td>\n",
       "    </tr>\n",
       "    <tr>\n",
       "      <th>123</th>\n",
       "      <td>4.409044</td>\n",
       "    </tr>\n",
       "    <tr>\n",
       "      <th>126</th>\n",
       "      <td>4.308333</td>\n",
       "    </tr>\n",
       "    <tr>\n",
       "      <th>129</th>\n",
       "      <td>4.188740</td>\n",
       "    </tr>\n",
       "    <tr>\n",
       "      <th>...</th>\n",
       "      <td>...</td>\n",
       "    </tr>\n",
       "    <tr>\n",
       "      <th>10824</th>\n",
       "      <td>3.982074</td>\n",
       "    </tr>\n",
       "    <tr>\n",
       "      <th>10825</th>\n",
       "      <td>4.302739</td>\n",
       "    </tr>\n",
       "    <tr>\n",
       "      <th>10831</th>\n",
       "      <td>3.822176</td>\n",
       "    </tr>\n",
       "    <tr>\n",
       "      <th>10835</th>\n",
       "      <td>4.060479</td>\n",
       "    </tr>\n",
       "    <tr>\n",
       "      <th>10838</th>\n",
       "      <td>3.917560</td>\n",
       "    </tr>\n",
       "  </tbody>\n",
       "</table>\n",
       "<p>1474 rows × 1 columns</p>\n",
       "</div>"
      ],
      "text/plain": [
       "           평가점수\n",
       "index          \n",
       "23     4.187732\n",
       "113    4.162334\n",
       "123    4.409044\n",
       "126    4.308333\n",
       "129    4.188740\n",
       "...         ...\n",
       "10824  3.982074\n",
       "10825  4.302739\n",
       "10831  3.822176\n",
       "10835  4.060479\n",
       "10838  3.917560\n",
       "\n",
       "[1474 rows x 1 columns]"
      ]
     },
     "execution_count": 23,
     "metadata": {},
     "output_type": "execute_result"
    }
   ],
   "source": [
    "Result_autogluon"
   ]
  },
  {
   "cell_type": "markdown",
   "metadata": {},
   "source": [
    "## 2"
   ]
  },
  {
   "cell_type": "markdown",
   "metadata": {},
   "source": [
    "4가지 모형으로 만든 예측값 합하기"
   ]
  },
  {
   "cell_type": "code",
   "execution_count": 24,
   "metadata": {},
   "outputs": [],
   "source": [
    "with open('Everyone_result.pickle','rb') as f:\n",
    "    Everyone_result = pickle.load(f)"
   ]
  },
  {
   "cell_type": "code",
   "execution_count": 25,
   "metadata": {},
   "outputs": [],
   "source": [
    "with open('Teen_result.pickle','rb') as f:\n",
    "    Teen_result = pickle.load(f)"
   ]
  },
  {
   "cell_type": "code",
   "execution_count": 26,
   "metadata": {},
   "outputs": [],
   "source": [
    "with open('Everyone_10_result.pickle','rb') as f:\n",
    "    Everyone_10_result = pickle.load(f)"
   ]
  },
  {
   "cell_type": "code",
   "execution_count": 27,
   "metadata": {},
   "outputs": [],
   "source": [
    "with open('Mature_result.pickle','rb') as f:\n",
    "    Mature_result = pickle.load(f)"
   ]
  },
  {
   "cell_type": "code",
   "execution_count": 28,
   "metadata": {},
   "outputs": [
    {
     "name": "stdout",
     "output_type": "stream",
     "text": [
      "1295 124 17 38\n"
     ]
    }
   ],
   "source": [
    "print(Everyone_result.shape[0], Teen_result.shape[0], Everyone_10_result.shape[0], Mature_result.shape[0])"
   ]
  },
  {
   "cell_type": "code",
   "execution_count": 29,
   "metadata": {},
   "outputs": [],
   "source": [
    "A = Everyone_result.reset_index()"
   ]
  },
  {
   "cell_type": "code",
   "execution_count": 30,
   "metadata": {},
   "outputs": [
    {
     "data": {
      "text/plain": [
       "index     0\n",
       "0        12\n",
       "dtype: int64"
      ]
     },
     "execution_count": 30,
     "metadata": {},
     "output_type": "execute_result"
    }
   ],
   "source": [
    "A.isnull().sum()"
   ]
  },
  {
   "cell_type": "code",
   "execution_count": 31,
   "metadata": {},
   "outputs": [],
   "source": [
    "B = Teen_result.reset_index()"
   ]
  },
  {
   "cell_type": "code",
   "execution_count": 32,
   "metadata": {},
   "outputs": [
    {
     "data": {
      "text/plain": [
       "index    0\n",
       "0        2\n",
       "dtype: int64"
      ]
     },
     "execution_count": 32,
     "metadata": {},
     "output_type": "execute_result"
    }
   ],
   "source": [
    "B.isnull().sum()"
   ]
  },
  {
   "cell_type": "code",
   "execution_count": 33,
   "metadata": {},
   "outputs": [],
   "source": [
    "C = Everyone_10_result.reset_index()"
   ]
  },
  {
   "cell_type": "code",
   "execution_count": 34,
   "metadata": {},
   "outputs": [],
   "source": [
    "D = Mature_result.reset_index()"
   ]
  },
  {
   "cell_type": "code",
   "execution_count": 35,
   "metadata": {},
   "outputs": [],
   "source": [
    "Model_result = pd.concat([A,B,C,D],axis = 0)"
   ]
  },
  {
   "cell_type": "code",
   "execution_count": 36,
   "metadata": {},
   "outputs": [],
   "source": [
    "Model_result = Model_result.sort_values(by = 'index')"
   ]
  },
  {
   "cell_type": "code",
   "execution_count": 37,
   "metadata": {},
   "outputs": [],
   "source": [
    "Model_result = Model_result.set_index('index')"
   ]
  },
  {
   "cell_type": "code",
   "execution_count": 38,
   "metadata": {},
   "outputs": [],
   "source": [
    "Model_result.columns = ['Model_predict']"
   ]
  },
  {
   "cell_type": "code",
   "execution_count": 39,
   "metadata": {},
   "outputs": [
    {
     "data": {
      "text/html": [
       "<div>\n",
       "<style scoped>\n",
       "    .dataframe tbody tr th:only-of-type {\n",
       "        vertical-align: middle;\n",
       "    }\n",
       "\n",
       "    .dataframe tbody tr th {\n",
       "        vertical-align: top;\n",
       "    }\n",
       "\n",
       "    .dataframe thead th {\n",
       "        text-align: right;\n",
       "    }\n",
       "</style>\n",
       "<table border=\"1\" class=\"dataframe\">\n",
       "  <thead>\n",
       "    <tr style=\"text-align: right;\">\n",
       "      <th></th>\n",
       "      <th>Model_predict</th>\n",
       "    </tr>\n",
       "    <tr>\n",
       "      <th>index</th>\n",
       "      <th></th>\n",
       "    </tr>\n",
       "  </thead>\n",
       "  <tbody>\n",
       "    <tr>\n",
       "      <th>23</th>\n",
       "      <td>4.183665</td>\n",
       "    </tr>\n",
       "    <tr>\n",
       "      <th>113</th>\n",
       "      <td>4.169256</td>\n",
       "    </tr>\n",
       "    <tr>\n",
       "      <th>123</th>\n",
       "      <td>4.185462</td>\n",
       "    </tr>\n",
       "    <tr>\n",
       "      <th>126</th>\n",
       "      <td>4.164862</td>\n",
       "    </tr>\n",
       "    <tr>\n",
       "      <th>129</th>\n",
       "      <td>4.068797</td>\n",
       "    </tr>\n",
       "    <tr>\n",
       "      <th>...</th>\n",
       "      <td>...</td>\n",
       "    </tr>\n",
       "    <tr>\n",
       "      <th>10824</th>\n",
       "      <td>4.105832</td>\n",
       "    </tr>\n",
       "    <tr>\n",
       "      <th>10825</th>\n",
       "      <td>4.310100</td>\n",
       "    </tr>\n",
       "    <tr>\n",
       "      <th>10831</th>\n",
       "      <td>4.203684</td>\n",
       "    </tr>\n",
       "    <tr>\n",
       "      <th>10835</th>\n",
       "      <td>3.973993</td>\n",
       "    </tr>\n",
       "    <tr>\n",
       "      <th>10838</th>\n",
       "      <td>4.126802</td>\n",
       "    </tr>\n",
       "  </tbody>\n",
       "</table>\n",
       "<p>1474 rows × 1 columns</p>\n",
       "</div>"
      ],
      "text/plain": [
       "       Model_predict\n",
       "index               \n",
       "23          4.183665\n",
       "113         4.169256\n",
       "123         4.185462\n",
       "126         4.164862\n",
       "129         4.068797\n",
       "...              ...\n",
       "10824       4.105832\n",
       "10825       4.310100\n",
       "10831       4.203684\n",
       "10835       3.973993\n",
       "10838       4.126802\n",
       "\n",
       "[1474 rows x 1 columns]"
      ]
     },
     "execution_count": 39,
     "metadata": {},
     "output_type": "execute_result"
    }
   ],
   "source": [
    "Model_result"
   ]
  },
  {
   "cell_type": "code",
   "execution_count": 40,
   "metadata": {},
   "outputs": [
    {
     "data": {
      "text/plain": [
       "Model_predict    15\n",
       "dtype: int64"
      ]
     },
     "execution_count": 40,
     "metadata": {},
     "output_type": "execute_result"
    }
   ],
   "source": [
    "Model_result.isnull().sum()"
   ]
  },
  {
   "cell_type": "markdown",
   "metadata": {},
   "source": [
    "## 비교"
   ]
  },
  {
   "cell_type": "code",
   "execution_count": 41,
   "metadata": {},
   "outputs": [],
   "source": [
    "Compare = pd.merge(Result_autogluon,Model_result,left_index = True, right_index = True)"
   ]
  },
  {
   "cell_type": "code",
   "execution_count": 42,
   "metadata": {},
   "outputs": [],
   "source": [
    "Compare.columns = ['Autogluon', 'Predict']"
   ]
  },
  {
   "cell_type": "code",
   "execution_count": 43,
   "metadata": {},
   "outputs": [],
   "source": [
    "Compare.to_csv('data/compare.csv')"
   ]
  },
  {
   "cell_type": "code",
   "execution_count": 44,
   "metadata": {},
   "outputs": [
    {
     "ename": "AttributeError",
     "evalue": "'DataFrame' object has no attribute 'Model_predict'",
     "output_type": "error",
     "traceback": [
      "\u001b[1;31m---------------------------------------------------------------------------\u001b[0m",
      "\u001b[1;31mAttributeError\u001b[0m                            Traceback (most recent call last)",
      "\u001b[1;32m<ipython-input-44-57ae014d10cc>\u001b[0m in \u001b[0;36m<module>\u001b[1;34m\u001b[0m\n\u001b[1;32m----> 1\u001b[1;33m \u001b[0mnp\u001b[0m\u001b[1;33m.\u001b[0m\u001b[0margmax\u001b[0m\u001b[1;33m(\u001b[0m\u001b[0mnp\u001b[0m\u001b[1;33m.\u001b[0m\u001b[0marray\u001b[0m\u001b[1;33m(\u001b[0m\u001b[0mCompare\u001b[0m\u001b[1;33m.\u001b[0m\u001b[0mModel_predict\u001b[0m\u001b[1;33m)\u001b[0m\u001b[1;33m)\u001b[0m\u001b[1;33m\u001b[0m\u001b[1;33m\u001b[0m\u001b[0m\n\u001b[0m",
      "\u001b[1;32mC:\\Anaconda\\lib\\site-packages\\pandas\\core\\generic.py\u001b[0m in \u001b[0;36m__getattr__\u001b[1;34m(self, name)\u001b[0m\n\u001b[0;32m   5177\u001b[0m             \u001b[1;32mif\u001b[0m \u001b[0mself\u001b[0m\u001b[1;33m.\u001b[0m\u001b[0m_info_axis\u001b[0m\u001b[1;33m.\u001b[0m\u001b[0m_can_hold_identifiers_and_holds_name\u001b[0m\u001b[1;33m(\u001b[0m\u001b[0mname\u001b[0m\u001b[1;33m)\u001b[0m\u001b[1;33m:\u001b[0m\u001b[1;33m\u001b[0m\u001b[1;33m\u001b[0m\u001b[0m\n\u001b[0;32m   5178\u001b[0m                 \u001b[1;32mreturn\u001b[0m \u001b[0mself\u001b[0m\u001b[1;33m[\u001b[0m\u001b[0mname\u001b[0m\u001b[1;33m]\u001b[0m\u001b[1;33m\u001b[0m\u001b[1;33m\u001b[0m\u001b[0m\n\u001b[1;32m-> 5179\u001b[1;33m             \u001b[1;32mreturn\u001b[0m \u001b[0mobject\u001b[0m\u001b[1;33m.\u001b[0m\u001b[0m__getattribute__\u001b[0m\u001b[1;33m(\u001b[0m\u001b[0mself\u001b[0m\u001b[1;33m,\u001b[0m \u001b[0mname\u001b[0m\u001b[1;33m)\u001b[0m\u001b[1;33m\u001b[0m\u001b[1;33m\u001b[0m\u001b[0m\n\u001b[0m\u001b[0;32m   5180\u001b[0m \u001b[1;33m\u001b[0m\u001b[0m\n\u001b[0;32m   5181\u001b[0m     \u001b[1;32mdef\u001b[0m \u001b[0m__setattr__\u001b[0m\u001b[1;33m(\u001b[0m\u001b[0mself\u001b[0m\u001b[1;33m,\u001b[0m \u001b[0mname\u001b[0m\u001b[1;33m,\u001b[0m \u001b[0mvalue\u001b[0m\u001b[1;33m)\u001b[0m\u001b[1;33m:\u001b[0m\u001b[1;33m\u001b[0m\u001b[1;33m\u001b[0m\u001b[0m\n",
      "\u001b[1;31mAttributeError\u001b[0m: 'DataFrame' object has no attribute 'Model_predict'"
     ]
    }
   ],
   "source": [
    "np.argmax(np.array(Compare.Model_predict))"
   ]
  },
  {
   "cell_type": "code",
   "execution_count": null,
   "metadata": {},
   "outputs": [],
   "source": [
    "Compare.isnull().sum()"
   ]
  },
  {
   "cell_type": "code",
   "execution_count": null,
   "metadata": {},
   "outputs": [],
   "source": [
    "Compare = Compare.dropna(axis = 0)"
   ]
  },
  {
   "cell_type": "code",
   "execution_count": null,
   "metadata": {},
   "outputs": [],
   "source": [
    "plt.figure(figsize = (20,10))\n",
    "sns.distplot(Compare.Autogluon)\n",
    "sns.distplot(Compare.Predict)\n",
    "plt.title('AutoML과 모델 수립한 것에 차이 비교',fontsize = 30)\n",
    "plt.legend(['Autogluon','Predict'])\n",
    "plt.show()"
   ]
  },
  {
   "cell_type": "code",
   "execution_count": null,
   "metadata": {},
   "outputs": [],
   "source": [
    "Compare.평가점수.describe()"
   ]
  },
  {
   "cell_type": "code",
   "execution_count": null,
   "metadata": {},
   "outputs": [],
   "source": [
    "Compare.Model_predict.describe()"
   ]
  },
  {
   "cell_type": "code",
   "execution_count": null,
   "metadata": {},
   "outputs": [],
   "source": []
  },
  {
   "cell_type": "code",
   "execution_count": null,
   "metadata": {},
   "outputs": [],
   "source": [
    "Compare [Compare.Autogluon == Compare.Predict]"
   ]
  },
  {
   "cell_type": "code",
   "execution_count": null,
   "metadata": {},
   "outputs": [],
   "source": [
    "# 내가 잘못 예측한 값의 개수..\n",
    "Compare.Predict[Compare.Predict > 5].shape"
   ]
  },
  {
   "cell_type": "code",
   "execution_count": null,
   "metadata": {},
   "outputs": [],
   "source": [
    "# Autogluon...1개...잘했네.. 이녀석...\n",
    "Compare.평가점수[Compare.평가점수 > 5]"
   ]
  }
 ],
 "metadata": {
  "kernelspec": {
   "display_name": "Python 3",
   "language": "python",
   "name": "python3"
  },
  "language_info": {
   "codemirror_mode": {
    "name": "ipython",
    "version": 3
   },
   "file_extension": ".py",
   "mimetype": "text/x-python",
   "name": "python",
   "nbconvert_exporter": "python",
   "pygments_lexer": "ipython3",
   "version": "3.7.4"
  }
 },
 "nbformat": 4,
 "nbformat_minor": 2
}
