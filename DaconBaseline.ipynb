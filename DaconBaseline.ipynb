{
  "nbformat": 4,
  "nbformat_minor": 0,
  "metadata": {
    "colab": {
      "name": "DaconBaseline.ipynb",
      "provenance": [],
      "authorship_tag": "ABX9TyPPbGfClp7QiA5LmsfbVu2x",
      "include_colab_link": true
    },
    "kernelspec": {
      "name": "python3",
      "display_name": "Python 3"
    },
    "accelerator": "GPU"
  },
  "cells": [
    {
      "cell_type": "markdown",
      "metadata": {
        "id": "view-in-github",
        "colab_type": "text"
      },
      "source": [
        "<a href=\"https://colab.research.google.com/github/JaeDoo1034/Kaggle-Study/blob/master/DaconBaseline.ipynb\" target=\"_parent\"><img src=\"https://colab.research.google.com/assets/colab-badge.svg\" alt=\"Open In Colab\"/></a>"
      ]
    },
    {
      "cell_type": "code",
      "metadata": {
        "id": "0KF_Ui6QvITh",
        "outputId": "aa8fac31-ea59-4520-f3eb-ddb562691ed9",
        "colab": {
          "base_uri": "https://localhost:8080/",
          "height": 34
        }
      },
      "source": [
        "from google.colab import drive\n",
        "drive.mount('/content/drive')"
      ],
      "execution_count": 1,
      "outputs": [
        {
          "output_type": "stream",
          "text": [
            "Mounted at /content/drive\n"
          ],
          "name": "stdout"
        }
      ]
    },
    {
      "cell_type": "code",
      "metadata": {
        "id": "jHxF9PQ6vT8V"
      },
      "source": [
        "import zipfile"
      ],
      "execution_count": 2,
      "outputs": []
    },
    {
      "cell_type": "code",
      "metadata": {
        "id": "xEiXDI_WxRS8"
      },
      "source": [
        "path = '/content/drive/My Drive/'"
      ],
      "execution_count": 3,
      "outputs": []
    },
    {
      "cell_type": "code",
      "metadata": {
        "id": "8du5_w0ExW7B"
      },
      "source": [
        "zip_file = zipfile.ZipFile(path + '/train.zip')\n",
        "zip_file.extractall('.')"
      ],
      "execution_count": 4,
      "outputs": []
    },
    {
      "cell_type": "code",
      "metadata": {
        "id": "uEMW4AwxxblD"
      },
      "source": [
        "zip_file = zipfile.ZipFile(path + '/test.zip')\n",
        "zip_file.extractall('./test/')"
      ],
      "execution_count": 5,
      "outputs": []
    },
    {
      "cell_type": "code",
      "metadata": {
        "id": "Oa84WLgsxiia"
      },
      "source": [
        "import glob\n",
        "import pandas as pd\n",
        "import numpy as np\n",
        "import matplotlib.pylab as plt\n",
        "from tqdm import tqdm\n",
        "import tensorflow as tf\n",
        "from tensorflow.keras.layers import Conv2D, Conv2DTranspose, MaxPooling2D, BatchNormalization, concatenate, Input\n",
        "from tensorflow.keras import Model"
      ],
      "execution_count": 6,
      "outputs": []
    },
    {
      "cell_type": "code",
      "metadata": {
        "id": "7YoCyWXwzGcw"
      },
      "source": [
        "import warnings\n",
        "warnings.filterwarnings(\"ignore\")"
      ],
      "execution_count": 7,
      "outputs": []
    },
    {
      "cell_type": "code",
      "metadata": {
        "id": "kcct__TezHsi",
        "outputId": "4bf8579c-e72b-43ec-d48a-ac6e0a4c24cf",
        "colab": {
          "base_uri": "https://localhost:8080/",
          "height": 34
        }
      },
      "source": [
        "train_files = glob.glob('/content/train/*.npy')\n",
        "len(train_files)"
      ],
      "execution_count": 8,
      "outputs": [
        {
          "output_type": "execute_result",
          "data": {
            "text/plain": [
              "62735"
            ]
          },
          "metadata": {
            "tags": []
          },
          "execution_count": 8
        }
      ]
    },
    {
      "cell_type": "code",
      "metadata": {
        "id": "jNNOi1IczVMU"
      },
      "source": [
        "def trainGenerator():\n",
        "    for file in train_files:\n",
        "        dataset = np.load(file)\n",
        "        target= dataset[:,:,-1].reshape(120,120,1)\n",
        "        remove_minus = np.where(target < 0, 0, target)\n",
        "        feature = dataset[:,:,:4]\n",
        "\n",
        "        yield (feature, remove_minus)"
      ],
      "execution_count": 9,
      "outputs": []
    },
    {
      "cell_type": "code",
      "metadata": {
        "id": "GzsFa5BYzWlm"
      },
      "source": [
        "train_dataset = tf.data.Dataset.from_generator(trainGenerator, (tf.float32, tf.float32), (tf.TensorShape([120,120,4]),tf.TensorShape([120,120,1])))\n",
        "train_dataset = train_dataset.batch(256).prefetch(1)"
      ],
      "execution_count": 10,
      "outputs": []
    },
    {
      "cell_type": "code",
      "metadata": {
        "id": "llHChfeGzXuj"
      },
      "source": [
        "color_map = plt.cm.get_cmap('RdBu')\n",
        "color_map = color_map.reversed()\n",
        "image_sample = np.load(train_files[42])"
      ],
      "execution_count": 11,
      "outputs": []
    },
    {
      "cell_type": "code",
      "metadata": {
        "id": "XK06YvFFzZxE",
        "outputId": "e50f82a6-48a7-47c6-e479-2e2b59693e97",
        "colab": {
          "base_uri": "https://localhost:8080/",
          "height": 140
        }
      },
      "source": [
        "plt.style.use('fivethirtyeight')\n",
        "plt.figure(figsize=(20, 20))\n",
        "\n",
        "for i in range(4):\n",
        "    plt.subplot(1,5,i+1)\n",
        "    plt.imshow(image_sample[:, :, i], cmap=color_map)\n",
        "\n",
        "plt.subplot(1,5,5)\n",
        "plt.imshow(image_sample[:,:,-1], cmap = color_map)\n",
        "plt.show()"
      ],
      "execution_count": 12,
      "outputs": [
        {
          "output_type": "display_data",
          "data": {
            "image/png": "[encoded data removed]",
            "text/plain": [
              "<Figure size 1440x1440 with 5 Axes>"
            ]
          },
          "metadata": {
            "tags": []
          }
        }
      ]
    },
    {
      "cell_type": "code",
      "metadata": {
        "id": "1aFiywmDza9U"
      },
      "source": [
        "def base_model(input_layer, start_neurons):\n",
        "    \n",
        "    conv1 = Conv2D(start_neurons * 1, (3, 3), activation=\"relu\", padding=\"same\")(input_layer)\n",
        "    pool1 = BatchNormalization()(conv1)\n",
        "    pool1 = MaxPooling2D((2, 2))(pool1)\n",
        "\n",
        "    conv2 = Conv2D(start_neurons * 2, (3, 3), activation=\"relu\", padding=\"same\")(pool1)\n",
        "    pool2 = BatchNormalization()(conv2)\n",
        "    pool2 = MaxPooling2D((2, 2))(pool2)\n",
        "\n",
        "    convm = Conv2D(start_neurons * 4, (3, 3), activation=\"relu\", padding=\"same\")(pool2)\n",
        "\n",
        "    deconv2 = Conv2DTranspose(start_neurons * 2, (3, 3), strides=(2, 2), padding=\"same\")(convm)\n",
        "    uconv2 = concatenate([deconv2, conv2])\n",
        "    uconv2 = Conv2D(start_neurons * 2, (3, 3), activation=\"relu\", padding=\"same\")(uconv2)\n",
        "    uconv2 = BatchNormalization()(uconv2)\n",
        "\n",
        "    deconv1 = Conv2DTranspose(start_neurons * 1, (3, 3), strides=(2, 2), padding=\"same\")(uconv2)\n",
        "    uconv1 = concatenate([deconv1, conv1])\n",
        "    uconv1 = Conv2D(start_neurons * 1, (3, 3), activation=\"relu\", padding=\"same\")(uconv1)\n",
        "    uconv1 = BatchNormalization()(uconv1)\n",
        "    output_layer = Conv2D(1, (1,1), padding=\"same\", activation='relu')(uconv1)\n",
        "    \n",
        "    return output_layer\n",
        "\n",
        "input_layer = Input((120, 120, 4))\n",
        "output_layer = base_model(input_layer,32)"
      ],
      "execution_count": 17,
      "outputs": []
    },
    {
      "cell_type": "code",
      "metadata": {
        "id": "4_o5vi7Kze3y",
        "outputId": "66d5cf71-7c09-4151-f57d-c65bff76f52f",
        "colab": {
          "base_uri": "https://localhost:8080/",
          "height": 34
        }
      },
      "source": [
        "input_layer"
      ],
      "execution_count": 18,
      "outputs": [
        {
          "output_type": "execute_result",
          "data": {
            "text/plain": [
              "<tf.Tensor 'input_2:0' shape=(None, 120, 120, 4) dtype=float32>"
            ]
          },
          "metadata": {
            "tags": []
          },
          "execution_count": 18
        }
      ]
    },
    {
      "cell_type": "code",
      "metadata": {
        "id": "3tXQlqqyzgtT",
        "outputId": "4e65bfe0-b10f-4a8b-9360-470977bcfbc2",
        "colab": {
          "base_uri": "https://localhost:8080/",
          "height": 248
        }
      },
      "source": [
        "model = Model(input_layer, output_layer)\n",
        "model.compile(loss='mae', optimizer='adam')\n",
        "model.fit(train_dataset, epochs = 5, verbose=1)"
      ],
      "execution_count": 19,
      "outputs": [
        {
          "output_type": "stream",
          "text": [
            "Epoch 1/5\n",
            "      2/Unknown - 1s 498ms/step - loss: 12.8442WARNING:tensorflow:Callbacks method `on_train_batch_end` is slow compared to the batch time (batch time: 0.3398s vs `on_train_batch_end` time: 0.6421s). Check your callbacks.\n",
            "246/246 [==============================] - 244s 992ms/step - loss: 9.9909\n",
            "Epoch 2/5\n",
            "246/246 [==============================] - 244s 992ms/step - loss: 4.8980\n",
            "Epoch 3/5\n",
            "246/246 [==============================] - 244s 991ms/step - loss: 3.2173\n",
            "Epoch 4/5\n",
            "246/246 [==============================] - 244s 991ms/step - loss: 3.1389\n",
            "Epoch 5/5\n",
            "246/246 [==============================] - 244s 991ms/step - loss: 3.1017\n"
          ],
          "name": "stdout"
        },
        {
          "output_type": "execute_result",
          "data": {
            "text/plain": [
              "<tensorflow.python.keras.callbacks.History at 0x7f8622689080>"
            ]
          },
          "metadata": {
            "tags": []
          },
          "execution_count": 19
        }
      ]
    },
    {
      "cell_type": "code",
      "metadata": {
        "id": "UyDYFvXkzo8P",
        "outputId": "ab8a4656-c68b-4c7d-d8dd-0001c904f82f",
        "colab": {
          "base_uri": "https://localhost:8080/",
          "height": 34
        }
      },
      "source": [
        "test_path = '/content/test'\n",
        "test_files = sorted(glob.glob(test_path + '/*.npy'))\n",
        "\n",
        "X_test = []\n",
        "\n",
        "for file in tqdm(test_files, desc = 'test'):\n",
        "    data = np.load(file)\n",
        "    X_test.append(data)\n",
        "\n",
        "X_test = np.array(X_test)"
      ],
      "execution_count": 20,
      "outputs": [
        {
          "output_type": "stream",
          "text": [
            "test: 100%|██████████| 2674/2674 [00:04<00:00, 592.88it/s]\n"
          ],
          "name": "stderr"
        }
      ]
    },
    {
      "cell_type": "code",
      "metadata": {
        "id": "sThUA-7b6DsF",
        "outputId": "b72bc427-4ce0-4f44-c700-51b3ecbe43dd",
        "colab": {
          "base_uri": "https://localhost:8080/",
          "height": 34
        }
      },
      "source": [
        "X_test.shape"
      ],
      "execution_count": 21,
      "outputs": [
        {
          "output_type": "execute_result",
          "data": {
            "text/plain": [
              "(2674, 120, 120, 4)"
            ]
          },
          "metadata": {
            "tags": []
          },
          "execution_count": 21
        }
      ]
    },
    {
      "cell_type": "code",
      "metadata": {
        "id": "i2gU_i6c6Gzc"
      },
      "source": [
        "pred = model.predict(X_test)"
      ],
      "execution_count": 22,
      "outputs": []
    },
    {
      "cell_type": "code",
      "metadata": {
        "id": "lKoF5bLF6HsX"
      },
      "source": [
        "submission = pd.read_csv('/content/drive/My Drive/sample_submission.csv')"
      ],
      "execution_count": 23,
      "outputs": []
    },
    {
      "cell_type": "code",
      "metadata": {
        "id": "wfoOMVgV6Kqq"
      },
      "source": [
        "submission.iloc[:,1:] = pred.reshape(-1, 14400).astype(int)\n",
        "submission.to_csv(path + 'Dacon_baseline.csv', index = False)"
      ],
      "execution_count": 24,
      "outputs": []
    },
    {
      "cell_type": "code",
      "metadata": {
        "id": "sbIP1EpU6P7D"
      },
      "source": [
        ""
      ],
      "execution_count": null,
      "outputs": []
    }
  ]
}